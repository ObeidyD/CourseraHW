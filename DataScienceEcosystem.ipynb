{
 "cells": [
  {
   "cell_type": "markdown",
   "id": "4b31209f-a8e2-4ae3-a2c6-e3dcc7a8c36a",
   "metadata": {},
   "source": [
    "<h1>Data Science Tools and Ecosystem</h1>"
   ]
  },
  {
   "cell_type": "markdown",
   "id": "d14ab904-a938-4bb6-8684-e091b0fd2513",
   "metadata": {},
   "source": [
    "In this notebook, Data Science Tools and Ecosystem are summarized."
   ]
  },
  {
   "cell_type": "markdown",
   "id": "737ff7a0-d4f5-41fc-9ad7-085aa1389ed1",
   "metadata": {},
   "source": [
    "<b>Objectives:</b>\n",
    "<ul><li>List popular languages for Data Science</li>\n",
    "    <li>Get familiar with Data Science platforms such as SPSS Modeler, Jupyter notebook...</li>\n",
    "    <li>Identify the steps needed prior to Data Analysis</li></ul>"
   ]
  },
  {
   "cell_type": "markdown",
   "id": "d5b4714a-36c8-4257-b400-b29a10432a56",
   "metadata": {},
   "source": [
    "Some of the popular languages that Data Scientists use are:\n",
    "<ol><li>Python</li>\n",
    "    <li>R</li>\n",
    "    <li>SQL</li></ol>"
   ]
  },
  {
   "cell_type": "markdown",
   "id": "801bfcee-be6e-40c2-a57b-6942e4c97f43",
   "metadata": {},
   "source": [
    "Some of the commonly used libraries used by Data Scientists include:\n",
    "<ol><li>Pandas</li>\n",
    "    <li>NumPy</li>\n",
    "    <li>TensorFlow</li></ol>"
   ]
  },
  {
   "cell_type": "markdown",
   "id": "afae5e50-56eb-4cd7-8fab-1502691c57bd",
   "metadata": {},
   "source": [
    "<table frame='box' border='5'><tr><td>Data Science Tools</td></tr>\n",
    "    <tr><td>Apache Spark</td></tr>\n",
    "    <tr><td>Jupyter Notebook</td></tr>\n",
    "    <tr><td>Apache Hadoop</td><tr></table>"
   ]
  },
  {
   "cell_type": "markdown",
   "id": "5bce327d-6778-44b7-b33b-9e4399c7da6c",
   "metadata": {},
   "source": [
    "<h3>Below are a few examples of evaluating arithmetic expressions in Python</h3>"
   ]
  },
  {
   "cell_type": "code",
   "execution_count": 1,
   "id": "19c2ec9c-caec-410d-89e7-84a6d660e0e0",
   "metadata": {},
   "outputs": [
    {
     "data": {
      "text/plain": [
       "17"
      ]
     },
     "execution_count": 1,
     "metadata": {},
     "output_type": "execute_result"
    }
   ],
   "source": [
    "(3*4)+5\n",
    "#This is a simple arithmetic expression to multiply and add integers"
   ]
  },
  {
   "cell_type": "code",
   "execution_count": 2,
   "id": "c2c88aa0-232d-4194-afe3-7f07efeaf887",
   "metadata": {},
   "outputs": [
    {
     "name": "stdout",
     "output_type": "stream",
     "text": [
      "3.3333333333333335\n"
     ]
    }
   ],
   "source": [
    "mins=200 #this is the time in minutes\n",
    "hrs=mins/60 #this will convert the value in mins to hrs by dividing by 60\n",
    "print(hrs)"
   ]
  },
  {
   "cell_type": "markdown",
   "id": "9d46f64b-e2d4-4a38-a286-50aa746baffe",
   "metadata": {},
   "source": [
    "<h2>Author:</h2>\n",
    "<p>Dakhlallah Obeidy</p>"
   ]
  }
 ],
 "metadata": {
  "kernelspec": {
   "display_name": "Python 3 (ipykernel)",
   "language": "python",
   "name": "python3"
  },
  "language_info": {
   "codemirror_mode": {
    "name": "ipython",
    "version": 3
   },
   "file_extension": ".py",
   "mimetype": "text/x-python",
   "name": "python",
   "nbconvert_exporter": "python",
   "pygments_lexer": "ipython3",
   "version": "3.9.13"
  }
 },
 "nbformat": 4,
 "nbformat_minor": 5
}
